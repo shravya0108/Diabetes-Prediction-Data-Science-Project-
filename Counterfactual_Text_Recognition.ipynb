{
  "nbformat": 4,
  "nbformat_minor": 0,
  "metadata": {
    "colab": {
      "name": "1  Counterfactual  Text Recognition",
      "provenance": [],
      "collapsed_sections": [],
      "include_colab_link": true
    },
    "kernelspec": {
      "name": "python3",
      "display_name": "Python 3"
    },
    "language_info": {
      "name": "python"
    }
  },
  "cells": [
    {
      "cell_type": "markdown",
      "metadata": {
        "id": "view-in-github",
        "colab_type": "text"
      },
      "source": [
        "<a href=\"https://colab.research.google.com/github/shravya0108/Diabetes-Prediction-Data-Science-Project-/blob/main/Counterfactual_Text_Recognition.ipynb\" target=\"_parent\"><img src=\"https://colab.research.google.com/assets/colab-badge.svg\" alt=\"Open In Colab\"/></a>"
      ]
    },
    {
      "cell_type": "markdown",
      "source": [
        " Recognizing Counterfactual Statements (RCS) -- Determine whether a given sentence is counterfactual or not.\n"
      ],
      "metadata": {
        "id": "5mGpi7SDkLOf"
      }
    },
    {
      "cell_type": "markdown",
      "source": [
        "1 Loading the data set from Google Drive\n"
      ],
      "metadata": {
        "id": "eXNVsTujkT-T"
      }
    },
    {
      "cell_type": "code",
      "source": [
        "from google.colab import drive\n",
        "drive.mount('/content/drive')"
      ],
      "metadata": {
        "colab": {
          "base_uri": "https://localhost:8080/"
        },
        "id": "YtKXaLB2kM-X",
        "outputId": "3285cb90-2f66-4e07-8c2b-eb0b28571f46"
      },
      "execution_count": null,
      "outputs": [
        {
          "output_type": "stream",
          "name": "stdout",
          "text": [
            "Mounted at /content/drive\n"
          ]
        }
      ]
    },
    {
      "cell_type": "markdown",
      "source": [
        "2 Importing all the necessary libraries"
      ],
      "metadata": {
        "id": "Tay4xV-Vkmne"
      }
    },
    {
      "cell_type": "code",
      "source": [
        "import pandas as pd\n",
        "import numpy as np\n",
        "from nltk.tokenize import word_tokenize\n",
        "from nltk import pos_tag\n",
        "from nltk.corpus import stopwords\n",
        "from nltk.stem import WordNetLemmatizer\n",
        "from sklearn.preprocessing import LabelEncoder\n",
        "from collections import defaultdict\n",
        "from nltk.corpus import wordnet as wn\n",
        "from sklearn.feature_extraction.text import TfidfVectorizer\n",
        "from sklearn import model_selection, naive_bayes, svm\n",
        "from sklearn.metrics import accuracy_score, recall_score, precision_score, f1_score\n"
      ],
      "metadata": {
        "id": "YKyue3HBkqfe"
      },
      "execution_count": null,
      "outputs": []
    },
    {
      "cell_type": "code",
      "source": [
        "import nltk\n",
        "nltk.download('punkt')\n",
        "nltk.download('wordnet')\n",
        "nltk.download('averaged_perceptron_tagger')\n",
        "nltk.download('stopwords')"
      ],
      "metadata": {
        "colab": {
          "base_uri": "https://localhost:8080/"
        },
        "id": "4xpQck6Qlrg2",
        "outputId": "c7c1f089-9098-43d2-e422-153457246787"
      },
      "execution_count": null,
      "outputs": [
        {
          "output_type": "stream",
          "name": "stdout",
          "text": [
            "[nltk_data] Downloading package punkt to /root/nltk_data...\n",
            "[nltk_data]   Unzipping tokenizers/punkt.zip.\n",
            "[nltk_data] Downloading package wordnet to /root/nltk_data...\n",
            "[nltk_data]   Unzipping corpora/wordnet.zip.\n",
            "[nltk_data] Downloading package averaged_perceptron_tagger to\n",
            "[nltk_data]     /root/nltk_data...\n",
            "[nltk_data]   Unzipping taggers/averaged_perceptron_tagger.zip.\n",
            "[nltk_data] Downloading package stopwords to /root/nltk_data...\n",
            "[nltk_data]   Unzipping corpora/stopwords.zip.\n"
          ]
        },
        {
          "output_type": "execute_result",
          "data": {
            "text/plain": [
              "True"
            ]
          },
          "metadata": {},
          "execution_count": 2
        }
      ]
    },
    {
      "cell_type": "markdown",
      "source": [
        "3 Generating random 500 integer numbers"
      ],
      "metadata": {
        "id": "ZyHWjgS9k1aU"
      }
    },
    {
      "cell_type": "code",
      "source": [
        "np.random.seed(500)"
      ],
      "metadata": {
        "id": "wowfj-ENkt4t"
      },
      "execution_count": null,
      "outputs": []
    },
    {
      "cell_type": "markdown",
      "source": [
        "4 Reading csv file"
      ],
      "metadata": {
        "id": "Ew4yKumnk6Q8"
      }
    },
    {
      "cell_type": "code",
      "source": [
        "from nltk import corpus\n",
        "path='/content/drive/MyDrive/dataset.csv'\n",
        "corpus = pd.read_csv(path, encoding='utf-8')"
      ],
      "metadata": {
        "id": "wlbqZqDekzFD"
      },
      "execution_count": null,
      "outputs": []
    },
    {
      "cell_type": "markdown",
      "source": [
        "5 Printing the path of csv file"
      ],
      "metadata": {
        "id": "_iZIXpCOlTfn"
      }
    },
    {
      "cell_type": "code",
      "source": [
        "print(\"File: %s\" % path)"
      ],
      "metadata": {
        "colab": {
          "base_uri": "https://localhost:8080/"
        },
        "id": "e9BUoLFulXq0",
        "outputId": "4345f209-b10a-4150-8b2b-583fae378531"
      },
      "execution_count": null,
      "outputs": [
        {
          "output_type": "stream",
          "name": "stdout",
          "text": [
            "File: /content/drive/MyDrive/dataset.csv\n"
          ]
        }
      ]
    },
    {
      "cell_type": "code",
      "source": [
        "percent = 0.3 \t# 0.3 for testing"
      ],
      "metadata": {
        "id": "XlwNA96vlbzG"
      },
      "execution_count": null,
      "outputs": []
    },
    {
      "cell_type": "markdown",
      "source": [
        "\n",
        "\n",
        "\n",
        "6 Data cleaning by dropping null values and converting text to lowercase"
      ],
      "metadata": {
        "id": "Z9Y3-9Unlik9"
      }
    },
    {
      "cell_type": "code",
      "source": [
        "corpus['sentence'].dropna(inplace=True)\n",
        "corpus['sentence'] = [sent.lower() for sent in corpus['sentence']]"
      ],
      "metadata": {
        "id": "SHT_eV-6leHE"
      },
      "execution_count": null,
      "outputs": []
    },
    {
      "cell_type": "code",
      "source": [
        "print(corpus['sentence'])"
      ],
      "metadata": {
        "colab": {
          "base_uri": "https://localhost:8080/"
        },
        "id": "VfJSSPpYl6Gt",
        "outputId": "da823956-3eb0-4e42-db24-1dc0042154b1"
      },
      "execution_count": null,
      "outputs": [
        {
          "output_type": "stream",
          "name": "stdout",
          "text": [
            "0       unfortunately, letting them behave badly -- be...\n",
            "1       if pepfar ended antiretroviral coverage to a t...\n",
            "2       republicans may not have read their bill befor...\n",
            "3       people close to mr. trump have suggested that ...\n",
            "4       this must all happen fast if policies are to t...\n",
            "                              ...                        \n",
            "6995    recruiters said that deutsche's approach was l...\n",
            "6996    if they include agriculture, said ms malmstrm ...\n",
            "6997    alcoa may have put to rest fears that earnings...\n",
            "6998    if the new rules are approved by the eu, lives...\n",
            "6999    if they win and the affordable care act, or pi...\n",
            "Name: sentence, Length: 7000, dtype: object\n"
          ]
        }
      ]
    },
    {
      "cell_type": "markdown",
      "source": [
        "7 Tokenization of sentence to words"
      ],
      "metadata": {
        "id": "7c39S1Ehl-B-"
      }
    },
    {
      "cell_type": "code",
      "source": [
        "corpus['sentence'] = [word_tokenize(word) for word in corpus['sentence']]"
      ],
      "metadata": {
        "id": "2sQIkC52l-qv"
      },
      "execution_count": null,
      "outputs": []
    },
    {
      "cell_type": "code",
      "source": [
        "print(corpus)"
      ],
      "metadata": {
        "colab": {
          "base_uri": "https://localhost:8080/"
        },
        "id": "33VGFpnRmBD1",
        "outputId": "d9743fc7-a601-4666-cade-81045f9e5045"
      },
      "execution_count": null,
      "outputs": [
        {
          "output_type": "stream",
          "name": "stdout",
          "text": [
            "      sentenceID  gold_label  \\\n",
            "0         113000           0   \n",
            "1         113001           0   \n",
            "2         113002           0   \n",
            "3         113003           0   \n",
            "4         113004           0   \n",
            "...          ...         ...   \n",
            "6995      119995           0   \n",
            "6996      119996           0   \n",
            "6997      119997           0   \n",
            "6998      119998           0   \n",
            "6999      119999           0   \n",
            "\n",
            "                                               sentence  \n",
            "0     [unfortunately, ,, letting, them, behave, badl...  \n",
            "1     [if, pepfar, ended, antiretroviral, coverage, ...  \n",
            "2     [republicans, may, not, have, read, their, bil...  \n",
            "3     [people, close, to, mr., trump, have, suggeste...  \n",
            "4     [this, must, all, happen, fast, if, policies, ...  \n",
            "...                                                 ...  \n",
            "6995  [recruiters, said, that, deutsche, 's, approac...  \n",
            "6996  [if, they, include, agriculture, ,, said, ms, ...  \n",
            "6997  [alcoa, may, have, put, to, rest, fears, that,...  \n",
            "6998  [if, the, new, rules, are, approved, by, the, ...  \n",
            "6999  [if, they, win, and, the, affordable, care, ac...  \n",
            "\n",
            "[7000 rows x 3 columns]\n"
          ]
        }
      ]
    },
    {
      "cell_type": "code",
      "source": [
        "print(len(corpus))"
      ],
      "metadata": {
        "colab": {
          "base_uri": "https://localhost:8080/"
        },
        "id": "7m4FwXW-mOE1",
        "outputId": "40013aca-54cb-4eb8-e62f-bccb46c5c5b7"
      },
      "execution_count": null,
      "outputs": [
        {
          "output_type": "stream",
          "name": "stdout",
          "text": [
            "7000\n"
          ]
        }
      ]
    },
    {
      "cell_type": "code",
      "source": [
        "print(corpus['sentence'])"
      ],
      "metadata": {
        "colab": {
          "base_uri": "https://localhost:8080/"
        },
        "id": "yOl_GiZrmR7u",
        "outputId": "07e0ed3c-e0c1-4fe5-ce85-f996d9afa68a"
      },
      "execution_count": null,
      "outputs": [
        {
          "output_type": "stream",
          "name": "stdout",
          "text": [
            "0       [unfortunately, ,, letting, them, behave, badl...\n",
            "1       [if, pepfar, ended, antiretroviral, coverage, ...\n",
            "2       [republicans, may, not, have, read, their, bil...\n",
            "3       [people, close, to, mr., trump, have, suggeste...\n",
            "4       [this, must, all, happen, fast, if, policies, ...\n",
            "                              ...                        \n",
            "6995    [recruiters, said, that, deutsche, 's, approac...\n",
            "6996    [if, they, include, agriculture, ,, said, ms, ...\n",
            "6997    [alcoa, may, have, put, to, rest, fears, that,...\n",
            "6998    [if, the, new, rules, are, approved, by, the, ...\n",
            "6999    [if, they, win, and, the, affordable, care, ac...\n",
            "Name: sentence, Length: 7000, dtype: object\n"
          ]
        }
      ]
    },
    {
      "cell_type": "markdown",
      "source": [
        "8 Applying lemmatization for words and removing stop words"
      ],
      "metadata": {
        "id": "ZfNaEljAmV8E"
      }
    },
    {
      "cell_type": "code",
      "source": [
        "tag_maps = defaultdict(lambda: wn.NOUN)\n",
        "tag_maps['J'] = wn.ADJ\n",
        "tag_maps['V'] = wn.VERB\n",
        "tag_maps['R'] = wn.ADV\n",
        "for index, entry in enumerate(corpus['sentence']):\n",
        "    Final_words = []\n",
        "    word_Lemmatized = WordNetLemmatizer()\n",
        "    for word, tag in pos_tag(entry):\n",
        "        if word not in stopwords.words('english') and word.isalpha():\n",
        "            word_Final = word_Lemmatized.lemmatize(word, tag_maps[tag[0]])\n",
        "            Final_words.append(word_Final)\n",
        "    corpus.loc[index, 'sentence_final'] = str(Final_words)\n",
        "Train_X, Test_X, Train_Y, Test_Y = model_selection.train_test_split(corpus['sentence_final'], corpus['gold_label'], test_size=percent)\n",
        "print(corpus.loc[index, 'sentence_final'])\n",
        "\n",
        "print(\">> Feature generation...\")\n",
        "Encoder = LabelEncoder()\n",
        "Train_Y = Encoder.fit_transform(Train_Y)\n",
        "Test_Y = Encoder.fit_transform(Test_Y)\n",
        "print(Train_X)\n",
        "print(Train_Y)\n",
        "\n",
        "Tfidf_vect = TfidfVectorizer(max_features=5000)\n",
        "Tfidf_vect.fit(corpus['sentence_final'])\n",
        "Train_X_Tfidf = Tfidf_vect.transform(Train_X)\n",
        "Test_X_Tfidf = Tfidf_vect.transform(Test_X)\n",
        "print(Train_X_Tfidf)\n",
        "print(Test_X_Tfidf)\n",
        "\n",
        "print(\">> SVM classifier....\")\n",
        "SVM = svm.SVC(C=1.0, kernel='linear', degree=3, gamma='auto')\n",
        "SVM.fit(Train_X_Tfidf, Train_Y)\n",
        "predictions_SVM = SVM.predict(Test_X_Tfidf)\n",
        "print(\"SVM Accuracy Score -> \", accuracy_score(Test_Y, predictions_SVM) * 100)\n",
        "print(\"SVM Precision Score -> \", precision_score(Test_Y, predictions_SVM) * 100)\n",
        "print(\"SVM Recall Score -> \", recall_score(Test_Y, predictions_SVM) * 100)\n",
        "print(\"SVM F1 Score -> \", f1_score(Test_Y, predictions_SVM) * 100)\n"
      ],
      "metadata": {
        "colab": {
          "base_uri": "https://localhost:8080/"
        },
        "id": "Dz_-zwtPmS-M",
        "outputId": "b3f6b6ef-2938-4934-9324-d28c43c6955a"
      },
      "execution_count": null,
      "outputs": [
        {
          "output_type": "stream",
          "name": "stdout",
          "text": [
            "['win', 'affordable', 'care', 'act', 'piece', 'fall', 'estimate', 'million', 'american', 'lose', 'coverage']\n",
            ">> Feature generation...\n",
            "4161    ['expect', 'inflation', 'go', 'back', 'normal'...\n",
            "3973    ['even', 'though', 'bill', 'perfect', 'first',...\n",
            "6101                                 ['proactive', 'say']\n",
            "4601    ['lever', 'play', 'run', 'constrain', 'say', '...\n",
            "783     ['one', 'slogan', 'think', 'clinch', 'last', '...\n",
            "                              ...                        \n",
            "6935    ['matter', 'many', 'veteran', 'may', 'receive'...\n",
            "5113    ['one', 'day', 'prosecutor', 'charge', 'assang...\n",
            "2022    ['biden', 'byron', 'suggest', 'also', 'come', ...\n",
            "1996    ['additional', 'resource', 'bring', 'bear', 's...\n",
            "6598    ['still', 'case', 'zadvydas', 'davis', 'majori...\n",
            "Name: sentence_final, Length: 4900, dtype: object\n",
            "[0 0 1 ... 0 0 0]\n",
            "  (0, 4973)\t0.10325022106987664\n",
            "  (0, 3042)\t0.32532283686373625\n",
            "  (0, 2605)\t0.2531248468306388\n",
            "  (0, 2301)\t0.568118526295317\n",
            "  (0, 1976)\t0.18571784695593793\n",
            "  (0, 1835)\t0.2708064354046454\n",
            "  (0, 1652)\t0.23846017838401018\n",
            "  (0, 922)\t0.3180455333681123\n",
            "  (0, 432)\t0.31024630133509534\n",
            "  (0, 367)\t0.2189141742802542\n",
            "  (0, 59)\t0.29437043051771067\n",
            "  (1, 4547)\t0.16964222134328247\n",
            "  (1, 4520)\t0.2243362572627195\n",
            "  (1, 3279)\t0.3087620921860755\n",
            "  (1, 3156)\t0.3054082471841231\n",
            "  (1, 3054)\t0.3313464196356803\n",
            "  (1, 2976)\t0.2543212334357693\n",
            "  (1, 2720)\t0.24813518262495105\n",
            "  (1, 2562)\t0.20265389815759602\n",
            "  (1, 2352)\t0.22251420089334645\n",
            "  (1, 2133)\t0.24652341876228684\n",
            "  (1, 2082)\t0.18804328629212752\n",
            "  (1, 1796)\t0.19324856760669937\n",
            "  (1, 1608)\t0.29670801369614075\n",
            "  (1, 1601)\t0.14260221798385178\n",
            "  :\t:\n",
            "  (4898, 699)\t0.2560568896187291\n",
            "  (4898, 580)\t0.2282595737591502\n",
            "  (4898, 417)\t0.26765618771765465\n",
            "  (4898, 131)\t0.26445187963504696\n",
            "  (4898, 111)\t0.33105821566163607\n",
            "  (4898, 69)\t0.2527920659598399\n",
            "  (4899, 4523)\t0.2525886566735859\n",
            "  (4899, 4345)\t0.20033098495071477\n",
            "  (4899, 4272)\t0.17963178680816747\n",
            "  (4899, 4188)\t0.2286249555204959\n",
            "  (4899, 3909)\t0.2580241988846083\n",
            "  (4899, 3547)\t0.20275832607897207\n",
            "  (4899, 3385)\t0.2867810586062731\n",
            "  (4899, 2824)\t0.2660818604637258\n",
            "  (4899, 2722)\t0.14179325788285452\n",
            "  (4899, 2721)\t0.2489542169301455\n",
            "  (4899, 2628)\t0.16502627928656297\n",
            "  (4899, 2214)\t0.2525886566735859\n",
            "  (4899, 1627)\t0.31113723307946967\n",
            "  (4899, 1132)\t0.31113723307946967\n",
            "  (4899, 1035)\t0.10398876250373984\n",
            "  (4899, 768)\t0.27184999234827506\n",
            "  (4899, 685)\t0.19243557153592097\n",
            "  (4899, 671)\t0.1882626445158879\n",
            "  (4899, 169)\t0.16394455825872778\n",
            "  (0, 4970)\t0.2323377108644291\n",
            "  (0, 4872)\t0.24197817969882968\n",
            "  (0, 3598)\t0.21465110793116707\n",
            "  (0, 2943)\t0.20701967255246945\n",
            "  (0, 2912)\t0.2047610886982603\n",
            "  (0, 2851)\t0.1407601764589782\n",
            "  (0, 2683)\t0.2026201065144667\n",
            "  (0, 2632)\t0.23898572161360054\n",
            "  (0, 2354)\t0.3482532345594458\n",
            "  (0, 1705)\t0.27456147130293473\n",
            "  (0, 1225)\t0.3482532345594458\n",
            "  (0, 1224)\t0.3105678862484382\n",
            "  (0, 1035)\t0.10870129811543544\n",
            "  (0, 633)\t0.3390757517342827\n",
            "  (0, 462)\t0.2505777398135083\n",
            "  (0, 393)\t0.18614324244532252\n",
            "  (1, 4975)\t0.24136673427733482\n",
            "  (1, 4402)\t0.35614557205343533\n",
            "  (1, 3614)\t0.2931816379801123\n",
            "  (1, 3438)\t0.2630400977019543\n",
            "  (1, 3425)\t0.30433066835065786\n",
            "  (1, 2952)\t0.21678030813116522\n",
            "  (1, 2851)\t0.161417570157988\n",
            "  (1, 2756)\t0.19166716078781226\n",
            "  (1, 2691)\t0.2466125754462002\n",
            "  :\t:\n",
            "  (2098, 703)\t0.09305073287641508\n",
            "  (2098, 681)\t0.059867360172502354\n",
            "  (2098, 673)\t0.04720848510615976\n",
            "  (2098, 612)\t0.07970042571895547\n",
            "  (2098, 562)\t0.05657322939166555\n",
            "  (2098, 458)\t0.05094187562663665\n",
            "  (2098, 445)\t0.12604917324231285\n",
            "  (2098, 436)\t0.04063607589322356\n",
            "  (2098, 342)\t0.0507192774241488\n",
            "  (2098, 316)\t0.052423115418260925\n",
            "  (2098, 307)\t0.05571724619909773\n",
            "  (2098, 245)\t0.05189878342328136\n",
            "  (2098, 224)\t0.05140624922290613\n",
            "  (2098, 214)\t0.1422601354051203\n",
            "  (2098, 191)\t0.0450879236591199\n",
            "  (2098, 89)\t0.05532085899245865\n",
            "  (2098, 69)\t0.09499734091736474\n",
            "  (2098, 51)\t0.05140624922290613\n",
            "  (2098, 46)\t0.05117074501905403\n",
            "  (2098, 25)\t0.06316149095333916\n",
            "  (2098, 6)\t0.14738695391227236\n",
            "  (2099, 3276)\t0.3980607806659246\n",
            "  (2099, 3124)\t0.546783319886669\n",
            "  (2099, 2701)\t0.5932182452437302\n",
            "  (2099, 376)\t0.43665516085269945\n",
            ">> SVM classifier....\n",
            "SVM Accuracy Score ->  89.71428571428571\n",
            "SVM Precision Score ->  65.71428571428571\n",
            "SVM Recall Score ->  10.13215859030837\n",
            "SVM F1 Score ->  17.557251908396946\n"
          ]
        }
      ]
    },
    {
      "cell_type": "code",
      "source": [
        "print(tag_maps)"
      ],
      "metadata": {
        "colab": {
          "base_uri": "https://localhost:8080/"
        },
        "id": "V0WFTnBzHH4r",
        "outputId": "17f09711-dc31-4ebb-e482-266726c55a95"
      },
      "execution_count": null,
      "outputs": [
        {
          "output_type": "stream",
          "name": "stdout",
          "text": [
            "defaultdict(<function <lambda> at 0x7fe2e6904b00>, {'J': 'a', 'V': 'v', 'R': 'r', 'N': 'n', 'W': 'n', 'M': 'n', 'I': 'n', 'F': 'n', 'C': 'n', 'P': 'n', 'D': 'n', 'E': 'n', 'S': 'n', '$': 'n', 'U': 'n', 'T': 'n', \"'\": 'n'})\n"
          ]
        }
      ]
    }
  ]
}